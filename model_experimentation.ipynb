{
  "nbformat": 4,
  "nbformat_minor": 0,
  "metadata": {
    "colab": {
      "provenance": [],
      "authorship_tag": "ABX9TyNDiid0qssklDzx97BYsD45"
    },
    "kernelspec": {
      "name": "python3",
      "display_name": "Python 3"
    },
    "language_info": {
      "name": "python"
    }
  },
  "cells": [
    {
      "cell_type": "markdown",
      "source": [
        "# Model Creation: Chicken Detector"
      ],
      "metadata": {
        "id": "iNu4IXF__zRv"
      }
    },
    {
      "cell_type": "markdown",
      "source": [
        "### 1. Importing Modules"
      ],
      "metadata": {
        "id": "q7pNZwJo_ycq"
      }
    },
    {
      "cell_type": "code",
      "source": [
        "!pip install -q torchmetrics"
      ],
      "metadata": {
        "id": "1kIAagys_Nx4"
      },
      "execution_count": null,
      "outputs": []
    },
    {
      "cell_type": "code",
      "source": [
        "import torch\n",
        "from torch import nn\n",
        "\n",
        "import torchvision\n",
        "from torchvision import transforms\n",
        "\n",
        "from torchmetrics import Accuracy"
      ],
      "metadata": {
        "id": "7wJOpE_17uFK"
      },
      "execution_count": null,
      "outputs": []
    },
    {
      "cell_type": "code",
      "source": [
        "# Device Agnostic Code\n",
        "device = \"cuda\" if torch.cuda.is_available() else \"cpu\"\n",
        "device"
      ],
      "metadata": {
        "colab": {
          "base_uri": "https://localhost:8080/",
          "height": 35
        },
        "id": "zieumaCy-2M4",
        "outputId": "e103af90-6fb4-4747-a1f3-9647d13fc84b"
      },
      "execution_count": null,
      "outputs": [
        {
          "output_type": "execute_result",
          "data": {
            "text/plain": [
              "'cpu'"
            ],
            "application/vnd.google.colaboratory.intrinsic+json": {
              "type": "string"
            }
          },
          "metadata": {},
          "execution_count": 5
        }
      ]
    },
    {
      "cell_type": "markdown",
      "source": [
        "### 2. Functionizing Training/Testing"
      ],
      "metadata": {
        "id": "BxtxpoeQAAsJ"
      }
    },
    {
      "cell_type": "code",
      "source": [
        "accuracy = Accuracy(task=\"binary\").to(device) # defining accuracy metric"
      ],
      "metadata": {
        "id": "0-x6UufnAPIN"
      },
      "execution_count": null,
      "outputs": []
    },
    {
      "cell_type": "code",
      "source": [
        "# Train Step\n",
        "def train_step(self,\n",
        "              model: torch.nn.Module,\n",
        "              dataloader: torch.utils.data.DataLoader,\n",
        "              loss_fn: torch.nn.Module,\n",
        "              optimizer: torch.optim.Optimizer,\n",
        "              accuracy: Accuracy,\n",
        "              device: torch.device=device # set default device\n",
        "              ):\n",
        "  \"\"\"\n",
        "  Train Step Function:\n",
        "  Trains a PyTorch model on binary image classification on specified training dataset.\n",
        "  Prints the average train loss and train accuracy across all batches.\n",
        "  \"\"\"\n",
        "  train_loss, train_acc = 0, 0\n",
        "\n",
        "  # Device Agnostic Code\n",
        "  model.to(device)\n",
        "  accuracy.to(device)\n",
        "\n",
        "  model.train() # put model into training mode\n",
        "\n",
        "  # Loop through training batches\n",
        "  for batch, (image, label) in enumerate(dataloader):\n",
        "    image, label = image.to(device), label.to(device) # Put data on target device\n",
        "\n",
        "    # 1. Forward Pass\n",
        "    y_pred = model(image)\n",
        "    # 2. Calculate and accumulate loss/accuracy\n",
        "    loss = loss_fn(y_pred, label)\n",
        "    train_loss += loss.item()\n",
        "    train_acc += accuracy(y_pred, label).item()\n",
        "    # 3. Optimizer zero grad\n",
        "    optimizer.zero_grad()\n",
        "    # 4. Loss backwards\n",
        "    loss.backward()\n",
        "    # 5. Optimizer step\n",
        "    optimizer.step()\n",
        "\n",
        "  # Calculate average loss/accuracy across all batches\n",
        "  train_loss /= len(dataloader)\n",
        "  train_acc /= len(dataloader)\n",
        "\n",
        "  # Print out Train Loss and Accuracy\n",
        "  print(f\"Train Loss: {train_loss:.3f} | Train Accuracy: {train_acc*100:.3f}\")"
      ],
      "metadata": {
        "id": "ixui8p1__vKK"
      },
      "execution_count": null,
      "outputs": []
    },
    {
      "cell_type": "code",
      "source": [
        "# Test Step\n",
        "def test_step(self,\n",
        "              model: torch.nn.Module,\n",
        "              dataloader: torch.utils.data.DataLoader,\n",
        "              loss_fn: torch.nn.Module,\n",
        "              accuracy: Accuracy,\n",
        "              device = torch.device=device\n",
        "              ):\n",
        "  \"\"\"\n",
        "  Test Step Function:\n",
        "  Tests a PyTorch model agains the training dataset to evaluate its preformance.\n",
        "  Prints the average test loss and test accuracy across all batches.\n",
        "  \"\"\"\n",
        "  test_loss, test_acc = 0, 0\n",
        "\n",
        "  # Device Agnostic Code\n",
        "  model.to(device)\n",
        "  accuracy.to(device)\n",
        "\n",
        "  model.eval() # put model into eval mode\n",
        "\n",
        "  with torch.inference_mode(): # test with inference mode, deactivates unnecessary features\n",
        "    for batch, (image, label) in enumerate(dataloader):\n",
        "      image, label = image.to(device), label.to(device) # Put data on target device\n",
        "\n",
        "      # 1. Forward Pass\n",
        "      y_pred = model(image)\n",
        "      # 2. Calculate the Loss/Accuracy\n",
        "      test_loss += loss_fn(y_pred, label).item()\n",
        "      test_acc += accuracy(y_pred, label).item()\n",
        "\n",
        "    # Calculate the averages across all batches\n",
        "    test_loss /= len(dataloader)\n",
        "    test_acc /= len(dataloader)\n",
        "\n",
        "    # Print out average test loss and accuracy\n",
        "    print(f\"Test Loss: {test_loss:.3f} | Test Accuracy: {test_acc*100:.3f}\")\n",
        "\n"
      ],
      "metadata": {
        "id": "XFxR36mcC4z_"
      },
      "execution_count": null,
      "outputs": []
    },
    {
      "cell_type": "code",
      "execution_count": null,
      "metadata": {
        "id": "fEAR1e1A6nnr"
      },
      "outputs": [],
      "source": [
        "placeholder_data = torch.rand(size=(32, 3, 224, 384)) # placeholder data to experiment with before loading custom data"
      ]
    },
    {
      "cell_type": "code",
      "source": [],
      "metadata": {
        "id": "tgZCGiWe-9wq"
      },
      "execution_count": null,
      "outputs": []
    }
  ]
}