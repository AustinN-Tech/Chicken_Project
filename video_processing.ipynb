{
 "cells": [
  {
   "metadata": {},
   "cell_type": "markdown",
   "source": "## 1. Import modules and define video",
   "id": "3e936fe95b8375b9"
  },
  {
   "cell_type": "code",
   "id": "initial_id",
   "metadata": {
    "collapsed": true,
    "ExecuteTime": {
     "end_time": "2025-08-18T05:35:51.380385Z",
     "start_time": "2025-08-18T05:35:50.417717Z"
    }
   },
   "source": [
    "import cv2 as cv\n",
    "import os"
   ],
   "outputs": [],
   "execution_count": 2
  },
  {
   "metadata": {
    "ExecuteTime": {
     "end_time": "2025-08-17T00:21:12.621420Z",
     "start_time": "2025-08-17T00:21:12.474935Z"
    }
   },
   "cell_type": "code",
   "source": "capture = cv.VideoCapture('Videos/chicken_video.mov')",
   "id": "5f79af15b235a033",
   "outputs": [],
   "execution_count": 2
  },
  {
   "metadata": {},
   "cell_type": "markdown",
   "source": "### Lets see the video",
   "id": "a26876b7da3cfa29"
  },
  {
   "metadata": {
    "ExecuteTime": {
     "end_time": "2025-08-17T00:22:10.245562Z",
     "start_time": "2025-08-17T00:21:56.124974Z"
    }
   },
   "cell_type": "code",
   "source": [
    "# Showing Video:\n",
    "while True:\n",
    "    isTrue, frame = capture.read() # returns the frame and a boolean value determining if it was read correctly \"isTrue\"\n",
    "    cv.imshow('Video', frame) # Displays each frame\n",
    "    \n",
    "    if cv.waitKey(20) & 0xFF == ord('d'): # to keep it from playing infinitely\n",
    "        break\n",
    "    # Basically saying if the letter d is pressed, break out of the loop.\n",
    "        \n",
    "# closes the capture and windows:\n",
    "capture.release()\n",
    "cv.destroyAllWindows()\n",
    "    \n",
    "# Basically, you loop through the video frame by frame"
   ],
   "id": "fdfedab89e97366c",
   "outputs": [],
   "execution_count": 3
  },
  {
   "metadata": {},
   "cell_type": "markdown",
   "source": "## 2. Capturing Images from Video",
   "id": "b422d8a45f1a6ac4"
  },
  {
   "metadata": {
    "ExecuteTime": {
     "end_time": "2025-08-18T05:36:01.994050Z",
     "start_time": "2025-08-18T05:36:01.984068Z"
    }
   },
   "cell_type": "code",
   "source": [
    "def video_to_frames(video_capture, video_name, path_output_dir, cap_occur=30):\n",
    "    \"\"\"\n",
    "    Function that takes a video and directory and saves images from the video to said directory.\n",
    "    :param video_capture: takes video capture object *must be created first*\n",
    "    :param video_name: name of the video, used in naming image files\n",
    "    :param path_output_dir: takes directory where images will be saved\n",
    "    :param cap_occur: specifies how often an image is saved, default is every 30 frames\n",
    "    \n",
    "    # Adapted from: https://stackoverflow.com/questions/30136257/how-to-get-image-from-video-using-opencv-python\n",
    "    \"\"\"\n",
    "    if not video_capture.isOpened(): # error catching if video cannot be opened\n",
    "        print('Unable to open video file')\n",
    "        raise Exception('Unable to open video file')\n",
    "    \n",
    "    os.makedirs(path_output_dir, exist_ok=True) # checking if output directory exists, creates one if not\n",
    "    \n",
    "    count = 0 # used to index each frame\n",
    "    capture_count = 0 # used to track how many images are captured\n",
    "    \n",
    "    print(f\"Capturing Images from {video_name}...\\n\")\n",
    "    while video_capture.isOpened(): # runs while the video is opened\n",
    "        success, image = video_capture.read() # success is boolean value, image is numpy array\n",
    "        if success: # if video is working\n",
    "            if count%cap_occur==0: # captures every n frames (default 30)\n",
    "                cv.imwrite(os.path.join(path_output_dir, f'{video_name}_{count:06d}.jpg'), image) # saves from as jpg file named as {video_name}_{index}\n",
    "                capture_count += 1 # keeping track of number of images taken\n",
    "            count += 1\n",
    "        else: # will break if video ends or encounters issues\n",
    "            break\n",
    "        \n",
    "    # closes the capture and windows   \n",
    "    cv.destroyAllWindows()\n",
    "    video_capture.release()\n",
    "    \n",
    "    print(f\"Capture Complete: {capture_count} images captured.\")"
   ],
   "id": "ae7fe78877bdb375",
   "outputs": [],
   "execution_count": 5
  },
  {
   "metadata": {},
   "cell_type": "markdown",
   "source": "## 3. Capturing Images",
   "id": "28390a582341f3ad"
  },
  {
   "metadata": {},
   "cell_type": "markdown",
   "source": "Let's capture images from this short white chickens video. Every 30 frames (or 1 image every second) is a solid starting point.",
   "id": "d6a4d030de33232d"
  },
  {
   "metadata": {
    "ExecuteTime": {
     "end_time": "2025-08-17T01:53:55.501154Z",
     "start_time": "2025-08-17T01:53:09.905976Z"
    }
   },
   "cell_type": "code",
   "source": [
    "capture = cv.VideoCapture('Videos/chickens01.mov')\n",
    "video_to_frames(capture, \"chickens01\", 'Video_Images/White_Chickens', 30)"
   ],
   "id": "47fef6bbef0d44b4",
   "outputs": [
    {
     "name": "stdout",
     "output_type": "stream",
     "text": [
      "Capturing Images from chickens01...\n",
      "\n",
      "Capture Complete: 125 images captured.\n"
     ]
    }
   ],
   "execution_count": 27
  },
  {
   "metadata": {},
   "cell_type": "markdown",
   "source": [
    "Works great! 14 of the images were not good quality, so I went through and deleted them.  \n",
    "Overall, 111 solid images captured from only **2 minutes** of video."
   ],
   "id": "bfc9a283871ed9ff"
  },
  {
   "metadata": {},
   "cell_type": "markdown",
   "source": "### Lets get some more images for data variation",
   "id": "acd06eda5d40dafd"
  },
  {
   "metadata": {},
   "cell_type": "markdown",
   "source": "These are chickens from the main flock. They come in many different breeds and varieties, so this will be valuable data for training. This is 20 minute video, so I'll capture an image every 90 frames (or every 3 seconds), so there is a large variety of images and that there isn't too many images for my initial dataset.",
   "id": "185616f20a21e2ea"
  },
  {
   "metadata": {
    "ExecuteTime": {
     "end_time": "2025-08-18T05:49:17.437957Z",
     "start_time": "2025-08-18T05:36:08.075577Z"
    }
   },
   "cell_type": "code",
   "source": [
    "capture = cv.VideoCapture('Videos/chickens02.mov')\n",
    "video_to_frames(capture, \"chickens02\", \"Video_Images/Main_Flock\", 90)"
   ],
   "id": "2e1b92a9b9467314",
   "outputs": [
    {
     "name": "stdout",
     "output_type": "stream",
     "text": [
      "Capturing Images from chickens02...\n",
      "\n",
      "Capture Complete: 417 images captured.\n"
     ]
    }
   ],
   "execution_count": 6
  },
  {
   "metadata": {},
   "cell_type": "markdown",
   "source": "My first initial dataset has 305 images. I went through the images captured from both videos and found clear images of chickens with some close up angles and with a variety of different chickens. Now lets label this initial dataset.",
   "id": "17ede0f573ec5575"
  },
  {
   "metadata": {},
   "cell_type": "markdown",
   "source": [
    "## 4. Labeling Images  \n",
    "\n",
    "For labeling, I am using Label-Studio"
   ],
   "id": "b06ed3a5c2fca071"
  },
  {
   "metadata": {},
   "cell_type": "code",
   "outputs": [],
   "execution_count": null,
   "source": "",
   "id": "c256e68cda149c14"
  }
 ],
 "metadata": {
  "kernelspec": {
   "display_name": "Python 3",
   "language": "python",
   "name": "python3"
  },
  "language_info": {
   "codemirror_mode": {
    "name": "ipython",
    "version": 2
   },
   "file_extension": ".py",
   "mimetype": "text/x-python",
   "name": "python",
   "nbconvert_exporter": "python",
   "pygments_lexer": "ipython2",
   "version": "2.7.6"
  }
 },
 "nbformat": 4,
 "nbformat_minor": 5
}
